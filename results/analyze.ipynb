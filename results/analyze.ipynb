{
 "cells": [
  {
   "cell_type": "code",
   "execution_count": 1,
   "metadata": {},
   "outputs": [],
   "source": [
    "import numpy as np\n",
    "import pandas as pd\n",
    "import matplotlib.pyplot as plt"
   ]
  },
  {
   "attachments": {},
   "cell_type": "markdown",
   "metadata": {},
   "source": [
    "# RBF: all features"
   ]
  },
  {
   "attachments": {},
   "cell_type": "markdown",
   "metadata": {},
   "source": [
    "Import results file"
   ]
  },
  {
   "cell_type": "code",
   "execution_count": 3,
   "metadata": {},
   "outputs": [],
   "source": [
    "colnames = ['N', 'tp', 'tn', 'fp', 'fn', 'SV0', 'SV1', 'C', 'p', 'timestamp', 'scene']\n",
    "\n",
    "RBF = pd.read_csv('result_rbf_SP.csv', names= colnames)"
   ]
  },
  {
   "attachments": {},
   "cell_type": "markdown",
   "metadata": {},
   "source": [
    "Calculate evaluation metrics"
   ]
  },
  {
   "cell_type": "code",
   "execution_count": 4,
   "metadata": {},
   "outputs": [],
   "source": [
    "RBF['accuracy'] = (RBF.tp+RBF.tn)/(RBF.tp+RBF.tn+RBF.fp+RBF.fn)\n",
    "RBF['jaccard'] = RBF.tp/(RBF.tp+RBF.fp + RBF.fn)\n",
    "RBF['precision'] = RBF.tp/(RBF.tp+RBF.fp)\n",
    "RBF['recall'] = RBF.tp/(RBF.tp+RBF.fn)\n",
    "RBF['specificity'] = RBF.tn/(RBF.tn+RBF.fp)"
   ]
  },
  {
   "attachments": {},
   "cell_type": "markdown",
   "metadata": {},
   "source": [
    "Aggregate the metrics"
   ]
  },
  {
   "cell_type": "code",
   "execution_count": 5,
   "metadata": {},
   "outputs": [],
   "source": [
    "RBF_agg = RBF.groupby(['scene', 'N']).agg({\n",
    "    'accuracy' : ['mean', 'std'],\n",
    "    'jaccard' : ['mean', 'std'],\n",
    "    'precision' : ['mean', 'std'],\n",
    "    'recall' : ['mean', 'std'],\n",
    "    'specificity' : ['mean', 'std']\n",
    "})"
   ]
  },
  {
   "cell_type": "code",
   "execution_count": 6,
   "metadata": {},
   "outputs": [],
   "source": [
    "['_'.join(col) for col in RBF_agg.columns.values]\n",
    "\n",
    "RBF_agg.columns  = ['_'.join(col) for col in RBF_agg.columns.values]\n",
    "RBF_agg.reset_index(inplace=True)"
   ]
  },
  {
   "cell_type": "code",
   "execution_count": 7,
   "metadata": {},
   "outputs": [
    {
     "data": {
      "text/html": [
       "<div>\n",
       "<style scoped>\n",
       "    .dataframe tbody tr th:only-of-type {\n",
       "        vertical-align: middle;\n",
       "    }\n",
       "\n",
       "    .dataframe tbody tr th {\n",
       "        vertical-align: top;\n",
       "    }\n",
       "\n",
       "    .dataframe thead th {\n",
       "        text-align: right;\n",
       "    }\n",
       "</style>\n",
       "<table border=\"1\" class=\"dataframe\">\n",
       "  <thead>\n",
       "    <tr style=\"text-align: right;\">\n",
       "      <th></th>\n",
       "      <th>scene</th>\n",
       "      <th>N</th>\n",
       "      <th>accuracy_mean</th>\n",
       "      <th>accuracy_std</th>\n",
       "      <th>jaccard_mean</th>\n",
       "      <th>jaccard_std</th>\n",
       "      <th>precision_mean</th>\n",
       "      <th>precision_std</th>\n",
       "      <th>recall_mean</th>\n",
       "      <th>recall_std</th>\n",
       "      <th>specificity_mean</th>\n",
       "      <th>specificity_std</th>\n",
       "    </tr>\n",
       "  </thead>\n",
       "  <tbody>\n",
       "    <tr>\n",
       "      <th>0</th>\n",
       "      <td>LC08_L1TP_003052_20160120_20170405_01_T1</td>\n",
       "      <td>10</td>\n",
       "      <td>0.780002</td>\n",
       "      <td>0.072358</td>\n",
       "      <td>0.413702</td>\n",
       "      <td>0.160627</td>\n",
       "      <td>0.913926</td>\n",
       "      <td>0.178940</td>\n",
       "      <td>0.475795</td>\n",
       "      <td>0.231654</td>\n",
       "      <td>0.933042</td>\n",
       "      <td>0.154919</td>\n",
       "    </tr>\n",
       "    <tr>\n",
       "      <th>1</th>\n",
       "      <td>LC08_L1TP_003052_20160120_20170405_01_T1</td>\n",
       "      <td>20</td>\n",
       "      <td>0.698648</td>\n",
       "      <td>0.105539</td>\n",
       "      <td>0.396612</td>\n",
       "      <td>0.079844</td>\n",
       "      <td>0.688118</td>\n",
       "      <td>0.277829</td>\n",
       "      <td>0.572726</td>\n",
       "      <td>0.165183</td>\n",
       "      <td>0.761997</td>\n",
       "      <td>0.219655</td>\n",
       "    </tr>\n",
       "    <tr>\n",
       "      <th>2</th>\n",
       "      <td>LC08_L1TP_003052_20160120_20170405_01_T1</td>\n",
       "      <td>40</td>\n",
       "      <td>0.749241</td>\n",
       "      <td>0.100263</td>\n",
       "      <td>0.466252</td>\n",
       "      <td>0.120377</td>\n",
       "      <td>0.757985</td>\n",
       "      <td>0.256290</td>\n",
       "      <td>0.633930</td>\n",
       "      <td>0.212963</td>\n",
       "      <td>0.807252</td>\n",
       "      <td>0.215458</td>\n",
       "    </tr>\n",
       "    <tr>\n",
       "      <th>3</th>\n",
       "      <td>LC08_L1TP_003052_20160120_20170405_01_T1</td>\n",
       "      <td>80</td>\n",
       "      <td>0.751639</td>\n",
       "      <td>0.107697</td>\n",
       "      <td>0.486714</td>\n",
       "      <td>0.110528</td>\n",
       "      <td>0.746279</td>\n",
       "      <td>0.253037</td>\n",
       "      <td>0.663943</td>\n",
       "      <td>0.186369</td>\n",
       "      <td>0.795756</td>\n",
       "      <td>0.220868</td>\n",
       "    </tr>\n",
       "    <tr>\n",
       "      <th>4</th>\n",
       "      <td>LC08_L1TP_003052_20160120_20170405_01_T1</td>\n",
       "      <td>160</td>\n",
       "      <td>0.848555</td>\n",
       "      <td>0.069895</td>\n",
       "      <td>0.595754</td>\n",
       "      <td>0.098659</td>\n",
       "      <td>0.931401</td>\n",
       "      <td>0.152860</td>\n",
       "      <td>0.636773</td>\n",
       "      <td>0.100279</td>\n",
       "      <td>0.955098</td>\n",
       "      <td>0.117997</td>\n",
       "    </tr>\n",
       "    <tr>\n",
       "      <th>...</th>\n",
       "      <td>...</td>\n",
       "      <td>...</td>\n",
       "      <td>...</td>\n",
       "      <td>...</td>\n",
       "      <td>...</td>\n",
       "      <td>...</td>\n",
       "      <td>...</td>\n",
       "      <td>...</td>\n",
       "      <td>...</td>\n",
       "      <td>...</td>\n",
       "      <td>...</td>\n",
       "      <td>...</td>\n",
       "    </tr>\n",
       "    <tr>\n",
       "      <th>155</th>\n",
       "      <td>LC08_L1TP_066014_20160520_20170223_01_T1</td>\n",
       "      <td>80</td>\n",
       "      <td>0.993795</td>\n",
       "      <td>0.012695</td>\n",
       "      <td>0.988762</td>\n",
       "      <td>0.023012</td>\n",
       "      <td>0.998482</td>\n",
       "      <td>0.001366</td>\n",
       "      <td>0.990271</td>\n",
       "      <td>0.023424</td>\n",
       "      <td>0.998133</td>\n",
       "      <td>0.001685</td>\n",
       "    </tr>\n",
       "    <tr>\n",
       "      <th>156</th>\n",
       "      <td>LC08_L1TP_066014_20160520_20170223_01_T1</td>\n",
       "      <td>160</td>\n",
       "      <td>0.996891</td>\n",
       "      <td>0.001646</td>\n",
       "      <td>0.994371</td>\n",
       "      <td>0.002980</td>\n",
       "      <td>0.998807</td>\n",
       "      <td>0.000981</td>\n",
       "      <td>0.995555</td>\n",
       "      <td>0.003199</td>\n",
       "      <td>0.998534</td>\n",
       "      <td>0.001208</td>\n",
       "    </tr>\n",
       "    <tr>\n",
       "      <th>157</th>\n",
       "      <td>LC08_L1TP_066014_20160520_20170223_01_T1</td>\n",
       "      <td>320</td>\n",
       "      <td>0.997010</td>\n",
       "      <td>0.000854</td>\n",
       "      <td>0.994589</td>\n",
       "      <td>0.001537</td>\n",
       "      <td>0.998563</td>\n",
       "      <td>0.001745</td>\n",
       "      <td>0.996017</td>\n",
       "      <td>0.001711</td>\n",
       "      <td>0.998231</td>\n",
       "      <td>0.002155</td>\n",
       "    </tr>\n",
       "    <tr>\n",
       "      <th>158</th>\n",
       "      <td>LC08_L1TP_066014_20160520_20170223_01_T1</td>\n",
       "      <td>640</td>\n",
       "      <td>0.997106</td>\n",
       "      <td>0.000353</td>\n",
       "      <td>0.994759</td>\n",
       "      <td>0.000639</td>\n",
       "      <td>0.999144</td>\n",
       "      <td>0.000765</td>\n",
       "      <td>0.995609</td>\n",
       "      <td>0.001012</td>\n",
       "      <td>0.998949</td>\n",
       "      <td>0.000941</td>\n",
       "    </tr>\n",
       "    <tr>\n",
       "      <th>159</th>\n",
       "      <td>LC08_L1TP_066014_20160520_20170223_01_T1</td>\n",
       "      <td>1280</td>\n",
       "      <td>0.997034</td>\n",
       "      <td>0.000429</td>\n",
       "      <td>0.994631</td>\n",
       "      <td>0.000769</td>\n",
       "      <td>0.998799</td>\n",
       "      <td>0.001631</td>\n",
       "      <td>0.995826</td>\n",
       "      <td>0.001271</td>\n",
       "      <td>0.998521</td>\n",
       "      <td>0.002017</td>\n",
       "    </tr>\n",
       "  </tbody>\n",
       "</table>\n",
       "<p>160 rows × 12 columns</p>\n",
       "</div>"
      ],
      "text/plain": [
       "                                        scene     N  accuracy_mean  \\\n",
       "0    LC08_L1TP_003052_20160120_20170405_01_T1    10       0.780002   \n",
       "1    LC08_L1TP_003052_20160120_20170405_01_T1    20       0.698648   \n",
       "2    LC08_L1TP_003052_20160120_20170405_01_T1    40       0.749241   \n",
       "3    LC08_L1TP_003052_20160120_20170405_01_T1    80       0.751639   \n",
       "4    LC08_L1TP_003052_20160120_20170405_01_T1   160       0.848555   \n",
       "..                                        ...   ...            ...   \n",
       "155  LC08_L1TP_066014_20160520_20170223_01_T1    80       0.993795   \n",
       "156  LC08_L1TP_066014_20160520_20170223_01_T1   160       0.996891   \n",
       "157  LC08_L1TP_066014_20160520_20170223_01_T1   320       0.997010   \n",
       "158  LC08_L1TP_066014_20160520_20170223_01_T1   640       0.997106   \n",
       "159  LC08_L1TP_066014_20160520_20170223_01_T1  1280       0.997034   \n",
       "\n",
       "     accuracy_std  jaccard_mean  jaccard_std  precision_mean  precision_std  \\\n",
       "0        0.072358      0.413702     0.160627        0.913926       0.178940   \n",
       "1        0.105539      0.396612     0.079844        0.688118       0.277829   \n",
       "2        0.100263      0.466252     0.120377        0.757985       0.256290   \n",
       "3        0.107697      0.486714     0.110528        0.746279       0.253037   \n",
       "4        0.069895      0.595754     0.098659        0.931401       0.152860   \n",
       "..            ...           ...          ...             ...            ...   \n",
       "155      0.012695      0.988762     0.023012        0.998482       0.001366   \n",
       "156      0.001646      0.994371     0.002980        0.998807       0.000981   \n",
       "157      0.000854      0.994589     0.001537        0.998563       0.001745   \n",
       "158      0.000353      0.994759     0.000639        0.999144       0.000765   \n",
       "159      0.000429      0.994631     0.000769        0.998799       0.001631   \n",
       "\n",
       "     recall_mean  recall_std  specificity_mean  specificity_std  \n",
       "0       0.475795    0.231654          0.933042         0.154919  \n",
       "1       0.572726    0.165183          0.761997         0.219655  \n",
       "2       0.633930    0.212963          0.807252         0.215458  \n",
       "3       0.663943    0.186369          0.795756         0.220868  \n",
       "4       0.636773    0.100279          0.955098         0.117997  \n",
       "..           ...         ...               ...              ...  \n",
       "155     0.990271    0.023424          0.998133         0.001685  \n",
       "156     0.995555    0.003199          0.998534         0.001208  \n",
       "157     0.996017    0.001711          0.998231         0.002155  \n",
       "158     0.995609    0.001012          0.998949         0.000941  \n",
       "159     0.995826    0.001271          0.998521         0.002017  \n",
       "\n",
       "[160 rows x 12 columns]"
      ]
     },
     "execution_count": 7,
     "metadata": {},
     "output_type": "execute_result"
    }
   ],
   "source": [
    "RBF_agg"
   ]
  },
  {
   "attachments": {},
   "cell_type": "markdown",
   "metadata": {},
   "source": [
    "Aggregate wrt N"
   ]
  },
  {
   "cell_type": "code",
   "execution_count": 8,
   "metadata": {},
   "outputs": [
    {
     "name": "stderr",
     "output_type": "stream",
     "text": [
      "/var/folders/3c/ljwwm7tx1h3_05wq1m93d6mr0000gn/T/ipykernel_1837/2805215620.py:1: FutureWarning: The default value of numeric_only in DataFrameGroupBy.mean is deprecated. In a future version, numeric_only will default to False. Either specify numeric_only or select only columns which should be valid for the function.\n",
      "  RBF_N = RBF_agg.groupby('N').agg('mean')\n"
     ]
    }
   ],
   "source": [
    "RBF_N = RBF_agg.groupby('N').agg('mean')"
   ]
  },
  {
   "cell_type": "code",
   "execution_count": 9,
   "metadata": {},
   "outputs": [
    {
     "data": {
      "text/html": [
       "<div>\n",
       "<style scoped>\n",
       "    .dataframe tbody tr th:only-of-type {\n",
       "        vertical-align: middle;\n",
       "    }\n",
       "\n",
       "    .dataframe tbody tr th {\n",
       "        vertical-align: top;\n",
       "    }\n",
       "\n",
       "    .dataframe thead th {\n",
       "        text-align: right;\n",
       "    }\n",
       "</style>\n",
       "<table border=\"1\" class=\"dataframe\">\n",
       "  <thead>\n",
       "    <tr style=\"text-align: right;\">\n",
       "      <th></th>\n",
       "      <th>accuracy_mean</th>\n",
       "      <th>accuracy_std</th>\n",
       "      <th>jaccard_mean</th>\n",
       "      <th>jaccard_std</th>\n",
       "      <th>precision_mean</th>\n",
       "      <th>recall_mean</th>\n",
       "      <th>specificity_mean</th>\n",
       "    </tr>\n",
       "    <tr>\n",
       "      <th>N</th>\n",
       "      <th></th>\n",
       "      <th></th>\n",
       "      <th></th>\n",
       "      <th></th>\n",
       "      <th></th>\n",
       "      <th></th>\n",
       "      <th></th>\n",
       "    </tr>\n",
       "  </thead>\n",
       "  <tbody>\n",
       "    <tr>\n",
       "      <th>10</th>\n",
       "      <td>0.830458</td>\n",
       "      <td>0.109488</td>\n",
       "      <td>0.495985</td>\n",
       "      <td>0.137302</td>\n",
       "      <td>0.675276</td>\n",
       "      <td>0.676522</td>\n",
       "      <td>0.890598</td>\n",
       "    </tr>\n",
       "    <tr>\n",
       "      <th>20</th>\n",
       "      <td>0.856165</td>\n",
       "      <td>0.082719</td>\n",
       "      <td>0.531865</td>\n",
       "      <td>0.107079</td>\n",
       "      <td>0.657789</td>\n",
       "      <td>0.716948</td>\n",
       "      <td>0.895087</td>\n",
       "    </tr>\n",
       "    <tr>\n",
       "      <th>40</th>\n",
       "      <td>0.869756</td>\n",
       "      <td>0.067534</td>\n",
       "      <td>0.550395</td>\n",
       "      <td>0.087461</td>\n",
       "      <td>0.668773</td>\n",
       "      <td>0.727926</td>\n",
       "      <td>0.904734</td>\n",
       "    </tr>\n",
       "    <tr>\n",
       "      <th>80</th>\n",
       "      <td>0.898930</td>\n",
       "      <td>0.046371</td>\n",
       "      <td>0.594443</td>\n",
       "      <td>0.082310</td>\n",
       "      <td>0.709605</td>\n",
       "      <td>0.745214</td>\n",
       "      <td>0.932783</td>\n",
       "    </tr>\n",
       "    <tr>\n",
       "      <th>160</th>\n",
       "      <td>0.908750</td>\n",
       "      <td>0.034611</td>\n",
       "      <td>0.608826</td>\n",
       "      <td>0.067547</td>\n",
       "      <td>0.723909</td>\n",
       "      <td>0.760301</td>\n",
       "      <td>0.946463</td>\n",
       "    </tr>\n",
       "    <tr>\n",
       "      <th>320</th>\n",
       "      <td>0.922182</td>\n",
       "      <td>0.019020</td>\n",
       "      <td>0.636580</td>\n",
       "      <td>0.053211</td>\n",
       "      <td>0.754733</td>\n",
       "      <td>0.766223</td>\n",
       "      <td>0.959888</td>\n",
       "    </tr>\n",
       "    <tr>\n",
       "      <th>640</th>\n",
       "      <td>0.927550</td>\n",
       "      <td>0.014483</td>\n",
       "      <td>0.651135</td>\n",
       "      <td>0.048254</td>\n",
       "      <td>0.773913</td>\n",
       "      <td>0.766757</td>\n",
       "      <td>0.965593</td>\n",
       "    </tr>\n",
       "    <tr>\n",
       "      <th>1280</th>\n",
       "      <td>0.930879</td>\n",
       "      <td>0.010329</td>\n",
       "      <td>0.658612</td>\n",
       "      <td>0.031997</td>\n",
       "      <td>0.787260</td>\n",
       "      <td>0.760236</td>\n",
       "      <td>0.972161</td>\n",
       "    </tr>\n",
       "  </tbody>\n",
       "</table>\n",
       "</div>"
      ],
      "text/plain": [
       "      accuracy_mean  accuracy_std  jaccard_mean  jaccard_std  precision_mean  \\\n",
       "N                                                                              \n",
       "10         0.830458      0.109488      0.495985     0.137302        0.675276   \n",
       "20         0.856165      0.082719      0.531865     0.107079        0.657789   \n",
       "40         0.869756      0.067534      0.550395     0.087461        0.668773   \n",
       "80         0.898930      0.046371      0.594443     0.082310        0.709605   \n",
       "160        0.908750      0.034611      0.608826     0.067547        0.723909   \n",
       "320        0.922182      0.019020      0.636580     0.053211        0.754733   \n",
       "640        0.927550      0.014483      0.651135     0.048254        0.773913   \n",
       "1280       0.930879      0.010329      0.658612     0.031997        0.787260   \n",
       "\n",
       "      recall_mean  specificity_mean  \n",
       "N                                    \n",
       "10       0.676522          0.890598  \n",
       "20       0.716948          0.895087  \n",
       "40       0.727926          0.904734  \n",
       "80       0.745214          0.932783  \n",
       "160      0.760301          0.946463  \n",
       "320      0.766223          0.959888  \n",
       "640      0.766757          0.965593  \n",
       "1280     0.760236          0.972161  "
      ]
     },
     "execution_count": 9,
     "metadata": {},
     "output_type": "execute_result"
    }
   ],
   "source": [
    "RBF_N[['accuracy_mean', 'accuracy_std', 'jaccard_mean', 'jaccard_std', 'precision_mean', 'recall_mean', 'specificity_mean']]"
   ]
  },
  {
   "attachments": {},
   "cell_type": "markdown",
   "metadata": {},
   "source": [
    "Plot the mean overall accuracy"
   ]
  },
  {
   "cell_type": "code",
   "execution_count": 11,
   "metadata": {},
   "outputs": [
    {
     "data": {
      "text/plain": [
       "<AxesSubplot: xlabel='N'>"
      ]
     },
     "execution_count": 11,
     "metadata": {},
     "output_type": "execute_result"
    },
    {
     "data": {
      "image/png": "[encoded data removed]",
      "text/plain": [
       "<Figure size 640x480 with 1 Axes>"
      ]
     },
     "metadata": {},
     "output_type": "display_data"
    }
   ],
   "source": [
    "RBF_N.reset_index(inplace=True)\n",
    "RBF_N.plot('N', 'accuracy_mean')"
   ]
  },
  {
   "attachments": {},
   "cell_type": "markdown",
   "metadata": {},
   "source": [
    "# Linear Full"
   ]
  },
  {
   "attachments": {},
   "cell_type": "markdown",
   "metadata": {},
   "source": [
    "Import results file"
   ]
  },
  {
   "cell_type": "code",
   "execution_count": 12,
   "metadata": {},
   "outputs": [],
   "source": [
    "colnames = ['N', 'tp', 'tn', 'fp', 'fn', 'SV0', 'SV1', 'C', 'timestamp', 'scene']\n",
    "\n",
    "lin = pd.read_csv('result_linear_SP.csv', names= colnames)"
   ]
  },
  {
   "cell_type": "markdown",
   "metadata": {},
   "source": [
    "Calculate evaluation metrics"
   ]
  },
  {
   "cell_type": "code",
   "execution_count": 13,
   "metadata": {},
   "outputs": [],
   "source": [
    "lin['accuracy'] = (lin.tp+lin.tn)/(lin.tp+lin.tn+lin.fp+lin.fn)\n",
    "lin['jaccard'] = lin.tp/(lin.tp+lin.fp + lin.fn)\n",
    "lin['precision'] = lin.tp/(lin.tp+lin.fp)\n",
    "lin['recall'] = lin.tp/(lin.tp+lin.fn)\n",
    "lin['specificity'] = lin.tn/(lin.tn+lin.fp)"
   ]
  },
  {
   "cell_type": "markdown",
   "metadata": {},
   "source": [
    "Aggregate the metrics"
   ]
  },
  {
   "cell_type": "code",
   "execution_count": 14,
   "metadata": {},
   "outputs": [],
   "source": [
    "lin_agg = lin.groupby(['scene', 'N']).agg({\n",
    "    'accuracy' : ['mean', 'std'],\n",
    "    'jaccard' : ['mean', 'std'],\n",
    "    'precision' : ['mean', 'std'],\n",
    "    'recall' : ['mean', 'std'],\n",
    "    'specificity' : ['mean', 'std']\n",
    "})"
   ]
  },
  {
   "cell_type": "code",
   "execution_count": 15,
   "metadata": {},
   "outputs": [],
   "source": [
    "['_'.join(col) for col in lin_agg.columns.values]\n",
    "\n",
    "lin_agg.columns  = ['_'.join(col) for col in lin_agg.columns.values]\n",
    "lin_agg.reset_index(inplace=True)"
   ]
  },
  {
   "cell_type": "markdown",
   "metadata": {},
   "source": [
    "Aggregate wrt N"
   ]
  },
  {
   "cell_type": "code",
   "execution_count": 16,
   "metadata": {},
   "outputs": [
    {
     "name": "stderr",
     "output_type": "stream",
     "text": [
      "/var/folders/3c/ljwwm7tx1h3_05wq1m93d6mr0000gn/T/ipykernel_1837/3553675179.py:1: FutureWarning: The default value of numeric_only in DataFrameGroupBy.mean is deprecated. In a future version, numeric_only will default to False. Either specify numeric_only or select only columns which should be valid for the function.\n",
      "  lin_N = lin_agg.groupby('N').agg('mean')\n"
     ]
    }
   ],
   "source": [
    "lin_N = lin_agg.groupby('N').agg('mean')"
   ]
  },
  {
   "cell_type": "code",
   "execution_count": 17,
   "metadata": {},
   "outputs": [
    {
     "data": {
      "text/html": [
       "<div>\n",
       "<style scoped>\n",
       "    .dataframe tbody tr th:only-of-type {\n",
       "        vertical-align: middle;\n",
       "    }\n",
       "\n",
       "    .dataframe tbody tr th {\n",
       "        vertical-align: top;\n",
       "    }\n",
       "\n",
       "    .dataframe thead th {\n",
       "        text-align: right;\n",
       "    }\n",
       "</style>\n",
       "<table border=\"1\" class=\"dataframe\">\n",
       "  <thead>\n",
       "    <tr style=\"text-align: right;\">\n",
       "      <th></th>\n",
       "      <th>accuracy_mean</th>\n",
       "      <th>jaccard_mean</th>\n",
       "      <th>precision_mean</th>\n",
       "      <th>recall_mean</th>\n",
       "      <th>specificity_mean</th>\n",
       "    </tr>\n",
       "    <tr>\n",
       "      <th>N</th>\n",
       "      <th></th>\n",
       "      <th></th>\n",
       "      <th></th>\n",
       "      <th></th>\n",
       "      <th></th>\n",
       "    </tr>\n",
       "  </thead>\n",
       "  <tbody>\n",
       "    <tr>\n",
       "      <th>10</th>\n",
       "      <td>0.826433</td>\n",
       "      <td>0.486129</td>\n",
       "      <td>0.691895</td>\n",
       "      <td>0.651675</td>\n",
       "      <td>0.895518</td>\n",
       "    </tr>\n",
       "    <tr>\n",
       "      <th>20</th>\n",
       "      <td>0.832766</td>\n",
       "      <td>0.509467</td>\n",
       "      <td>0.668072</td>\n",
       "      <td>0.702425</td>\n",
       "      <td>0.882430</td>\n",
       "    </tr>\n",
       "    <tr>\n",
       "      <th>40</th>\n",
       "      <td>0.823576</td>\n",
       "      <td>0.487450</td>\n",
       "      <td>0.671881</td>\n",
       "      <td>0.666012</td>\n",
       "      <td>0.883461</td>\n",
       "    </tr>\n",
       "    <tr>\n",
       "      <th>80</th>\n",
       "      <td>0.845683</td>\n",
       "      <td>0.524598</td>\n",
       "      <td>0.674634</td>\n",
       "      <td>0.706366</td>\n",
       "      <td>0.892359</td>\n",
       "    </tr>\n",
       "    <tr>\n",
       "      <th>160</th>\n",
       "      <td>0.832981</td>\n",
       "      <td>0.521993</td>\n",
       "      <td>0.637519</td>\n",
       "      <td>0.740371</td>\n",
       "      <td>0.856800</td>\n",
       "    </tr>\n",
       "    <tr>\n",
       "      <th>320</th>\n",
       "      <td>0.859003</td>\n",
       "      <td>0.533864</td>\n",
       "      <td>0.655879</td>\n",
       "      <td>0.756105</td>\n",
       "      <td>0.899558</td>\n",
       "    </tr>\n",
       "    <tr>\n",
       "      <th>640</th>\n",
       "      <td>0.856352</td>\n",
       "      <td>0.537397</td>\n",
       "      <td>0.648946</td>\n",
       "      <td>0.774936</td>\n",
       "      <td>0.891755</td>\n",
       "    </tr>\n",
       "    <tr>\n",
       "      <th>1280</th>\n",
       "      <td>0.869072</td>\n",
       "      <td>0.539394</td>\n",
       "      <td>0.664827</td>\n",
       "      <td>0.772169</td>\n",
       "      <td>0.912376</td>\n",
       "    </tr>\n",
       "  </tbody>\n",
       "</table>\n",
       "</div>"
      ],
      "text/plain": [
       "      accuracy_mean  jaccard_mean  precision_mean  recall_mean  \\\n",
       "N                                                                \n",
       "10         0.826433      0.486129        0.691895     0.651675   \n",
       "20         0.832766      0.509467        0.668072     0.702425   \n",
       "40         0.823576      0.487450        0.671881     0.666012   \n",
       "80         0.845683      0.524598        0.674634     0.706366   \n",
       "160        0.832981      0.521993        0.637519     0.740371   \n",
       "320        0.859003      0.533864        0.655879     0.756105   \n",
       "640        0.856352      0.537397        0.648946     0.774936   \n",
       "1280       0.869072      0.539394        0.664827     0.772169   \n",
       "\n",
       "      specificity_mean  \n",
       "N                       \n",
       "10            0.895518  \n",
       "20            0.882430  \n",
       "40            0.883461  \n",
       "80            0.892359  \n",
       "160           0.856800  \n",
       "320           0.899558  \n",
       "640           0.891755  \n",
       "1280          0.912376  "
      ]
     },
     "execution_count": 17,
     "metadata": {},
     "output_type": "execute_result"
    }
   ],
   "source": [
    "lin_N[['accuracy_mean', 'jaccard_mean', 'precision_mean', 'recall_mean', 'specificity_mean']]"
   ]
  },
  {
   "cell_type": "markdown",
   "metadata": {},
   "source": [
    "Plot the mean overall accuracy"
   ]
  },
  {
   "cell_type": "code",
   "execution_count": 18,
   "metadata": {},
   "outputs": [
    {
     "data": {
      "text/plain": [
       "<AxesSubplot: xlabel='N'>"
      ]
     },
     "execution_count": 18,
     "metadata": {},
     "output_type": "execute_result"
    },
    {
     "data": {
      "image/png": "[encoded data removed]",
      "text/plain": [
       "<Figure size 640x480 with 1 Axes>"
      ]
     },
     "metadata": {},
     "output_type": "display_data"
    }
   ],
   "source": [
    "lin_N.reset_index(inplace=True)\n",
    "lin_N.plot('N', 'accuracy_mean')"
   ]
  },
  {
   "attachments": {},
   "cell_type": "markdown",
   "metadata": {},
   "source": [
    "# Lin: 4 PCs"
   ]
  },
  {
   "cell_type": "markdown",
   "metadata": {},
   "source": [
    "Import results file"
   ]
  },
  {
   "cell_type": "code",
   "execution_count": 19,
   "metadata": {},
   "outputs": [],
   "source": [
    "colnames = ['N', 'tp', 'tn', 'fp', 'fn', 'SV0', 'SV1', 'C', 'timestamp', 'scene']\n",
    "\n",
    "lin4 = pd.read_csv('result_linear_SP_pca4.csv', names= colnames)"
   ]
  },
  {
   "cell_type": "markdown",
   "metadata": {},
   "source": [
    "Calculate evaluation metrics"
   ]
  },
  {
   "cell_type": "code",
   "execution_count": 20,
   "metadata": {},
   "outputs": [],
   "source": [
    "lin4['accuracy'] = (lin4.tp+lin4.tn)/(lin4.tp+lin4.tn+lin4.fp+lin4.fn)\n",
    "lin4['jaccard'] = lin4.tp/(lin4.tp+lin4.fp + lin4.fn)\n",
    "lin4['precision'] = lin4.tp/(lin4.tp+lin4.fp)\n",
    "lin4['recall'] = lin4.tp/(lin4.tp+lin4.fn)\n",
    "lin4['specificity'] = lin4.tn/(lin4.tn+lin4.fp)"
   ]
  },
  {
   "cell_type": "markdown",
   "metadata": {},
   "source": [
    "Aggregate the metrics"
   ]
  },
  {
   "cell_type": "code",
   "execution_count": 23,
   "metadata": {},
   "outputs": [],
   "source": [
    "lin4_agg = lin4.groupby(['scene', 'N']).agg({\n",
    "    'accuracy' : ['mean', 'std'],\n",
    "    'jaccard' : ['mean', 'std'],\n",
    "    'precision' : ['mean', 'std'],\n",
    "    'recall' : ['mean', 'std'],\n",
    "    'specificity' : ['mean', 'std']\n",
    "})"
   ]
  },
  {
   "cell_type": "code",
   "execution_count": 24,
   "metadata": {},
   "outputs": [],
   "source": [
    "['_'.join(col) for col in lin4_agg.columns.values]\n",
    "\n",
    "lin4_agg.columns  = ['_'.join(col) for col in lin4_agg.columns.values]\n",
    "lin4_agg.reset_index(inplace=True)"
   ]
  },
  {
   "cell_type": "markdown",
   "metadata": {},
   "source": [
    "Aggregate wrt N"
   ]
  },
  {
   "cell_type": "code",
   "execution_count": 25,
   "metadata": {},
   "outputs": [
    {
     "name": "stderr",
     "output_type": "stream",
     "text": [
      "/var/folders/3c/ljwwm7tx1h3_05wq1m93d6mr0000gn/T/ipykernel_1837/1371705044.py:1: FutureWarning: The default value of numeric_only in DataFrameGroupBy.mean is deprecated. In a future version, numeric_only will default to False. Either specify numeric_only or select only columns which should be valid for the function.\n",
      "  lin4_N = lin4_agg.groupby('N').agg('mean')\n"
     ]
    }
   ],
   "source": [
    "lin4_N = lin4_agg.groupby('N').agg('mean')"
   ]
  },
  {
   "cell_type": "code",
   "execution_count": 26,
   "metadata": {},
   "outputs": [
    {
     "data": {
      "text/html": [
       "<div>\n",
       "<style scoped>\n",
       "    .dataframe tbody tr th:only-of-type {\n",
       "        vertical-align: middle;\n",
       "    }\n",
       "\n",
       "    .dataframe tbody tr th {\n",
       "        vertical-align: top;\n",
       "    }\n",
       "\n",
       "    .dataframe thead th {\n",
       "        text-align: right;\n",
       "    }\n",
       "</style>\n",
       "<table border=\"1\" class=\"dataframe\">\n",
       "  <thead>\n",
       "    <tr style=\"text-align: right;\">\n",
       "      <th></th>\n",
       "      <th>accuracy_mean</th>\n",
       "      <th>accuracy_std</th>\n",
       "      <th>jaccard_mean</th>\n",
       "      <th>precision_mean</th>\n",
       "      <th>recall_mean</th>\n",
       "      <th>specificity_mean</th>\n",
       "    </tr>\n",
       "    <tr>\n",
       "      <th>N</th>\n",
       "      <th></th>\n",
       "      <th></th>\n",
       "      <th></th>\n",
       "      <th></th>\n",
       "      <th></th>\n",
       "      <th></th>\n",
       "    </tr>\n",
       "  </thead>\n",
       "  <tbody>\n",
       "    <tr>\n",
       "      <th>10</th>\n",
       "      <td>0.825062</td>\n",
       "      <td>0.102530</td>\n",
       "      <td>0.488916</td>\n",
       "      <td>0.685335</td>\n",
       "      <td>0.663302</td>\n",
       "      <td>0.888376</td>\n",
       "    </tr>\n",
       "    <tr>\n",
       "      <th>20</th>\n",
       "      <td>0.842883</td>\n",
       "      <td>0.074219</td>\n",
       "      <td>0.498943</td>\n",
       "      <td>0.691639</td>\n",
       "      <td>0.658596</td>\n",
       "      <td>0.910258</td>\n",
       "    </tr>\n",
       "    <tr>\n",
       "      <th>40</th>\n",
       "      <td>0.841087</td>\n",
       "      <td>0.072161</td>\n",
       "      <td>0.477704</td>\n",
       "      <td>0.703008</td>\n",
       "      <td>0.608797</td>\n",
       "      <td>0.919234</td>\n",
       "    </tr>\n",
       "    <tr>\n",
       "      <th>80</th>\n",
       "      <td>0.861144</td>\n",
       "      <td>0.046725</td>\n",
       "      <td>0.492514</td>\n",
       "      <td>0.732031</td>\n",
       "      <td>0.598354</td>\n",
       "      <td>0.943300</td>\n",
       "    </tr>\n",
       "    <tr>\n",
       "      <th>160</th>\n",
       "      <td>0.860003</td>\n",
       "      <td>0.051146</td>\n",
       "      <td>0.484202</td>\n",
       "      <td>0.727006</td>\n",
       "      <td>0.585539</td>\n",
       "      <td>0.943297</td>\n",
       "    </tr>\n",
       "    <tr>\n",
       "      <th>320</th>\n",
       "      <td>0.863390</td>\n",
       "      <td>0.023682</td>\n",
       "      <td>0.477813</td>\n",
       "      <td>0.775323</td>\n",
       "      <td>0.554866</td>\n",
       "      <td>0.959107</td>\n",
       "    </tr>\n",
       "    <tr>\n",
       "      <th>640</th>\n",
       "      <td>0.866169</td>\n",
       "      <td>0.013505</td>\n",
       "      <td>0.473383</td>\n",
       "      <td>0.754468</td>\n",
       "      <td>0.542381</td>\n",
       "      <td>0.963337</td>\n",
       "    </tr>\n",
       "    <tr>\n",
       "      <th>1280</th>\n",
       "      <td>0.866798</td>\n",
       "      <td>0.007076</td>\n",
       "      <td>0.475214</td>\n",
       "      <td>0.792820</td>\n",
       "      <td>0.544186</td>\n",
       "      <td>0.963676</td>\n",
       "    </tr>\n",
       "  </tbody>\n",
       "</table>\n",
       "</div>"
      ],
      "text/plain": [
       "      accuracy_mean  accuracy_std  jaccard_mean  precision_mean  recall_mean  \\\n",
       "N                                                                              \n",
       "10         0.825062      0.102530      0.488916        0.685335     0.663302   \n",
       "20         0.842883      0.074219      0.498943        0.691639     0.658596   \n",
       "40         0.841087      0.072161      0.477704        0.703008     0.608797   \n",
       "80         0.861144      0.046725      0.492514        0.732031     0.598354   \n",
       "160        0.860003      0.051146      0.484202        0.727006     0.585539   \n",
       "320        0.863390      0.023682      0.477813        0.775323     0.554866   \n",
       "640        0.866169      0.013505      0.473383        0.754468     0.542381   \n",
       "1280       0.866798      0.007076      0.475214        0.792820     0.544186   \n",
       "\n",
       "      specificity_mean  \n",
       "N                       \n",
       "10            0.888376  \n",
       "20            0.910258  \n",
       "40            0.919234  \n",
       "80            0.943300  \n",
       "160           0.943297  \n",
       "320           0.959107  \n",
       "640           0.963337  \n",
       "1280          0.963676  "
      ]
     },
     "execution_count": 26,
     "metadata": {},
     "output_type": "execute_result"
    }
   ],
   "source": [
    "lin4_N[['accuracy_mean', 'accuracy_std', 'jaccard_mean', 'precision_mean', 'recall_mean', 'specificity_mean']]"
   ]
  },
  {
   "cell_type": "markdown",
   "metadata": {},
   "source": [
    "Plot the mean overall accuracy"
   ]
  },
  {
   "cell_type": "code",
   "execution_count": 28,
   "metadata": {},
   "outputs": [
    {
     "data": {
      "text/plain": [
       "<AxesSubplot: xlabel='N'>"
      ]
     },
     "execution_count": 28,
     "metadata": {},
     "output_type": "execute_result"
    },
    {
     "data": {
      "image/png": "[encoded data removed]",
      "text/plain": [
       "<Figure size 640x480 with 1 Axes>"
      ]
     },
     "metadata": {},
     "output_type": "display_data"
    }
   ],
   "source": [
    "lin4_N.reset_index(inplace=True)\n",
    "lin4_N.plot('N', 'accuracy_mean')"
   ]
  },
  {
   "attachments": {},
   "cell_type": "markdown",
   "metadata": {},
   "source": [
    "# RBF: 4 PCs"
   ]
  },
  {
   "cell_type": "markdown",
   "metadata": {},
   "source": [
    "Import results file"
   ]
  },
  {
   "cell_type": "code",
   "execution_count": 29,
   "metadata": {},
   "outputs": [],
   "source": [
    "colnames = ['N', 'tp', 'tn', 'fp', 'fn', 'SV0', 'SV1', 'C', 'p', 'timestamp', 'scene']\n",
    "\n",
    "RBF4 = pd.read_csv('result_rbf_SP_pca4.csv', names= colnames)"
   ]
  },
  {
   "cell_type": "markdown",
   "metadata": {},
   "source": [
    "Calculate evaluation metrics"
   ]
  },
  {
   "cell_type": "code",
   "execution_count": 30,
   "metadata": {},
   "outputs": [],
   "source": [
    "RBF4['accuracy'] = (RBF4.tp+RBF4.tn)/(RBF4.tp+RBF4.tn+RBF4.fp+RBF4.fn)\n",
    "RBF4['jaccard'] = RBF4.tp/(RBF4.tp+RBF4.fp + RBF4.fn)\n",
    "RBF4['precision'] = RBF4.tp/(RBF4.tp+RBF4.fp)\n",
    "RBF4['recall'] = RBF4.tp/(RBF4.tp+RBF4.fn)\n",
    "RBF4['specificity'] = RBF4.tn/(RBF4.tn+RBF4.fp)"
   ]
  },
  {
   "cell_type": "markdown",
   "metadata": {},
   "source": [
    "Aggregate the metrics"
   ]
  },
  {
   "cell_type": "code",
   "execution_count": 34,
   "metadata": {},
   "outputs": [],
   "source": [
    "RBF4_agg = RBF4.groupby(['scene', 'N']).agg({\n",
    "    'accuracy' : ['mean', 'std'],\n",
    "    'jaccard' : ['mean', 'std'],\n",
    "    'precision' : ['mean', 'std'],\n",
    "    'recall' : ['mean', 'std'],\n",
    "    'specificity' : ['mean', 'std']\n",
    "})"
   ]
  },
  {
   "cell_type": "code",
   "execution_count": 35,
   "metadata": {},
   "outputs": [],
   "source": [
    "RBF4_agg.columns  = ['_'.join(col) for col in RBF4_agg.columns.values]\n",
    "RBF4_agg.reset_index(inplace=True)"
   ]
  },
  {
   "cell_type": "code",
   "execution_count": 36,
   "metadata": {},
   "outputs": [
    {
     "data": {
      "text/html": [
       "<div>\n",
       "<style scoped>\n",
       "    .dataframe tbody tr th:only-of-type {\n",
       "        vertical-align: middle;\n",
       "    }\n",
       "\n",
       "    .dataframe tbody tr th {\n",
       "        vertical-align: top;\n",
       "    }\n",
       "\n",
       "    .dataframe thead th {\n",
       "        text-align: right;\n",
       "    }\n",
       "</style>\n",
       "<table border=\"1\" class=\"dataframe\">\n",
       "  <thead>\n",
       "    <tr style=\"text-align: right;\">\n",
       "      <th></th>\n",
       "      <th>scene</th>\n",
       "      <th>N</th>\n",
       "      <th>accuracy_mean</th>\n",
       "      <th>accuracy_std</th>\n",
       "      <th>jaccard_mean</th>\n",
       "      <th>jaccard_std</th>\n",
       "      <th>precision_mean</th>\n",
       "      <th>precision_std</th>\n",
       "      <th>recall_mean</th>\n",
       "      <th>recall_std</th>\n",
       "      <th>specificity_mean</th>\n",
       "      <th>specificity_std</th>\n",
       "    </tr>\n",
       "  </thead>\n",
       "  <tbody>\n",
       "    <tr>\n",
       "      <th>0</th>\n",
       "      <td>LC08_L1TP_003052_20160120_20170405_01_T1</td>\n",
       "      <td>10</td>\n",
       "      <td>0.745016</td>\n",
       "      <td>0.127705</td>\n",
       "      <td>0.426749</td>\n",
       "      <td>0.154519</td>\n",
       "      <td>0.820179</td>\n",
       "      <td>0.237284</td>\n",
       "      <td>0.569896</td>\n",
       "      <td>0.279742</td>\n",
       "      <td>0.833115</td>\n",
       "      <td>0.274510</td>\n",
       "    </tr>\n",
       "    <tr>\n",
       "      <th>1</th>\n",
       "      <td>LC08_L1TP_003052_20160120_20170405_01_T1</td>\n",
       "      <td>20</td>\n",
       "      <td>0.743635</td>\n",
       "      <td>0.087058</td>\n",
       "      <td>0.429538</td>\n",
       "      <td>0.100471</td>\n",
       "      <td>0.777723</td>\n",
       "      <td>0.250784</td>\n",
       "      <td>0.579264</td>\n",
       "      <td>0.220447</td>\n",
       "      <td>0.826327</td>\n",
       "      <td>0.210723</td>\n",
       "    </tr>\n",
       "    <tr>\n",
       "      <th>2</th>\n",
       "      <td>LC08_L1TP_003052_20160120_20170405_01_T1</td>\n",
       "      <td>40</td>\n",
       "      <td>0.757898</td>\n",
       "      <td>0.093669</td>\n",
       "      <td>0.433370</td>\n",
       "      <td>0.100048</td>\n",
       "      <td>0.822610</td>\n",
       "      <td>0.245945</td>\n",
       "      <td>0.543725</td>\n",
       "      <td>0.200048</td>\n",
       "      <td>0.865644</td>\n",
       "      <td>0.204757</td>\n",
       "    </tr>\n",
       "    <tr>\n",
       "      <th>3</th>\n",
       "      <td>LC08_L1TP_003052_20160120_20170405_01_T1</td>\n",
       "      <td>80</td>\n",
       "      <td>0.762915</td>\n",
       "      <td>0.091077</td>\n",
       "      <td>0.465411</td>\n",
       "      <td>0.072132</td>\n",
       "      <td>0.804768</td>\n",
       "      <td>0.245497</td>\n",
       "      <td>0.598245</td>\n",
       "      <td>0.173082</td>\n",
       "      <td>0.845757</td>\n",
       "      <td>0.207475</td>\n",
       "    </tr>\n",
       "    <tr>\n",
       "      <th>4</th>\n",
       "      <td>LC08_L1TP_003052_20160120_20170405_01_T1</td>\n",
       "      <td>160</td>\n",
       "      <td>0.798637</td>\n",
       "      <td>0.081310</td>\n",
       "      <td>0.472257</td>\n",
       "      <td>0.120026</td>\n",
       "      <td>0.912419</td>\n",
       "      <td>0.193860</td>\n",
       "      <td>0.519815</td>\n",
       "      <td>0.141990</td>\n",
       "      <td>0.938906</td>\n",
       "      <td>0.144859</td>\n",
       "    </tr>\n",
       "    <tr>\n",
       "      <th>...</th>\n",
       "      <td>...</td>\n",
       "      <td>...</td>\n",
       "      <td>...</td>\n",
       "      <td>...</td>\n",
       "      <td>...</td>\n",
       "      <td>...</td>\n",
       "      <td>...</td>\n",
       "      <td>...</td>\n",
       "      <td>...</td>\n",
       "      <td>...</td>\n",
       "      <td>...</td>\n",
       "      <td>...</td>\n",
       "    </tr>\n",
       "    <tr>\n",
       "      <th>155</th>\n",
       "      <td>LC08_L1TP_066014_20160520_20170223_01_T1</td>\n",
       "      <td>80</td>\n",
       "      <td>0.996178</td>\n",
       "      <td>0.003004</td>\n",
       "      <td>0.993072</td>\n",
       "      <td>0.005446</td>\n",
       "      <td>0.999964</td>\n",
       "      <td>0.000059</td>\n",
       "      <td>0.993108</td>\n",
       "      <td>0.005453</td>\n",
       "      <td>0.999955</td>\n",
       "      <td>0.000073</td>\n",
       "    </tr>\n",
       "    <tr>\n",
       "      <th>156</th>\n",
       "      <td>LC08_L1TP_066014_20160520_20170223_01_T1</td>\n",
       "      <td>160</td>\n",
       "      <td>0.996839</td>\n",
       "      <td>0.000371</td>\n",
       "      <td>0.994271</td>\n",
       "      <td>0.000673</td>\n",
       "      <td>0.999913</td>\n",
       "      <td>0.000276</td>\n",
       "      <td>0.994357</td>\n",
       "      <td>0.000755</td>\n",
       "      <td>0.999893</td>\n",
       "      <td>0.000338</td>\n",
       "    </tr>\n",
       "    <tr>\n",
       "      <th>157</th>\n",
       "      <td>LC08_L1TP_066014_20160520_20170223_01_T1</td>\n",
       "      <td>320</td>\n",
       "      <td>0.996942</td>\n",
       "      <td>0.000187</td>\n",
       "      <td>0.994458</td>\n",
       "      <td>0.000339</td>\n",
       "      <td>0.999744</td>\n",
       "      <td>0.000581</td>\n",
       "      <td>0.994712</td>\n",
       "      <td>0.000712</td>\n",
       "      <td>0.999686</td>\n",
       "      <td>0.000713</td>\n",
       "    </tr>\n",
       "    <tr>\n",
       "      <th>158</th>\n",
       "      <td>LC08_L1TP_066014_20160520_20170223_01_T1</td>\n",
       "      <td>640</td>\n",
       "      <td>0.996875</td>\n",
       "      <td>0.000246</td>\n",
       "      <td>0.994337</td>\n",
       "      <td>0.000445</td>\n",
       "      <td>0.999618</td>\n",
       "      <td>0.000913</td>\n",
       "      <td>0.994717</td>\n",
       "      <td>0.001076</td>\n",
       "      <td>0.999530</td>\n",
       "      <td>0.001125</td>\n",
       "    </tr>\n",
       "    <tr>\n",
       "      <th>159</th>\n",
       "      <td>LC08_L1TP_066014_20160520_20170223_01_T1</td>\n",
       "      <td>1280</td>\n",
       "      <td>0.996825</td>\n",
       "      <td>0.000220</td>\n",
       "      <td>0.994248</td>\n",
       "      <td>0.000394</td>\n",
       "      <td>0.999606</td>\n",
       "      <td>0.000887</td>\n",
       "      <td>0.994639</td>\n",
       "      <td>0.000682</td>\n",
       "      <td>0.999516</td>\n",
       "      <td>0.001091</td>\n",
       "    </tr>\n",
       "  </tbody>\n",
       "</table>\n",
       "<p>160 rows × 12 columns</p>\n",
       "</div>"
      ],
      "text/plain": [
       "                                        scene     N  accuracy_mean  \\\n",
       "0    LC08_L1TP_003052_20160120_20170405_01_T1    10       0.745016   \n",
       "1    LC08_L1TP_003052_20160120_20170405_01_T1    20       0.743635   \n",
       "2    LC08_L1TP_003052_20160120_20170405_01_T1    40       0.757898   \n",
       "3    LC08_L1TP_003052_20160120_20170405_01_T1    80       0.762915   \n",
       "4    LC08_L1TP_003052_20160120_20170405_01_T1   160       0.798637   \n",
       "..                                        ...   ...            ...   \n",
       "155  LC08_L1TP_066014_20160520_20170223_01_T1    80       0.996178   \n",
       "156  LC08_L1TP_066014_20160520_20170223_01_T1   160       0.996839   \n",
       "157  LC08_L1TP_066014_20160520_20170223_01_T1   320       0.996942   \n",
       "158  LC08_L1TP_066014_20160520_20170223_01_T1   640       0.996875   \n",
       "159  LC08_L1TP_066014_20160520_20170223_01_T1  1280       0.996825   \n",
       "\n",
       "     accuracy_std  jaccard_mean  jaccard_std  precision_mean  precision_std  \\\n",
       "0        0.127705      0.426749     0.154519        0.820179       0.237284   \n",
       "1        0.087058      0.429538     0.100471        0.777723       0.250784   \n",
       "2        0.093669      0.433370     0.100048        0.822610       0.245945   \n",
       "3        0.091077      0.465411     0.072132        0.804768       0.245497   \n",
       "4        0.081310      0.472257     0.120026        0.912419       0.193860   \n",
       "..            ...           ...          ...             ...            ...   \n",
       "155      0.003004      0.993072     0.005446        0.999964       0.000059   \n",
       "156      0.000371      0.994271     0.000673        0.999913       0.000276   \n",
       "157      0.000187      0.994458     0.000339        0.999744       0.000581   \n",
       "158      0.000246      0.994337     0.000445        0.999618       0.000913   \n",
       "159      0.000220      0.994248     0.000394        0.999606       0.000887   \n",
       "\n",
       "     recall_mean  recall_std  specificity_mean  specificity_std  \n",
       "0       0.569896    0.279742          0.833115         0.274510  \n",
       "1       0.579264    0.220447          0.826327         0.210723  \n",
       "2       0.543725    0.200048          0.865644         0.204757  \n",
       "3       0.598245    0.173082          0.845757         0.207475  \n",
       "4       0.519815    0.141990          0.938906         0.144859  \n",
       "..           ...         ...               ...              ...  \n",
       "155     0.993108    0.005453          0.999955         0.000073  \n",
       "156     0.994357    0.000755          0.999893         0.000338  \n",
       "157     0.994712    0.000712          0.999686         0.000713  \n",
       "158     0.994717    0.001076          0.999530         0.001125  \n",
       "159     0.994639    0.000682          0.999516         0.001091  \n",
       "\n",
       "[160 rows x 12 columns]"
      ]
     },
     "execution_count": 36,
     "metadata": {},
     "output_type": "execute_result"
    }
   ],
   "source": [
    "RBF4_agg"
   ]
  },
  {
   "cell_type": "markdown",
   "metadata": {},
   "source": [
    "Aggregate wrt N"
   ]
  },
  {
   "cell_type": "code",
   "execution_count": 37,
   "metadata": {},
   "outputs": [
    {
     "name": "stderr",
     "output_type": "stream",
     "text": [
      "/var/folders/3c/ljwwm7tx1h3_05wq1m93d6mr0000gn/T/ipykernel_1837/3689408018.py:1: FutureWarning: The default value of numeric_only in DataFrameGroupBy.mean is deprecated. In a future version, numeric_only will default to False. Either specify numeric_only or select only columns which should be valid for the function.\n",
      "  RBF4_N = RBF4_agg.groupby('N').agg('mean')\n"
     ]
    },
    {
     "data": {
      "text/html": [
       "<div>\n",
       "<style scoped>\n",
       "    .dataframe tbody tr th:only-of-type {\n",
       "        vertical-align: middle;\n",
       "    }\n",
       "\n",
       "    .dataframe tbody tr th {\n",
       "        vertical-align: top;\n",
       "    }\n",
       "\n",
       "    .dataframe thead th {\n",
       "        text-align: right;\n",
       "    }\n",
       "</style>\n",
       "<table border=\"1\" class=\"dataframe\">\n",
       "  <thead>\n",
       "    <tr style=\"text-align: right;\">\n",
       "      <th></th>\n",
       "      <th>accuracy_mean</th>\n",
       "      <th>accuracy_std</th>\n",
       "      <th>jaccard_mean</th>\n",
       "      <th>jaccard_std</th>\n",
       "      <th>precision_mean</th>\n",
       "      <th>precision_std</th>\n",
       "      <th>recall_mean</th>\n",
       "      <th>recall_std</th>\n",
       "      <th>specificity_mean</th>\n",
       "      <th>specificity_std</th>\n",
       "    </tr>\n",
       "    <tr>\n",
       "      <th>N</th>\n",
       "      <th></th>\n",
       "      <th></th>\n",
       "      <th></th>\n",
       "      <th></th>\n",
       "      <th></th>\n",
       "      <th></th>\n",
       "      <th></th>\n",
       "      <th></th>\n",
       "      <th></th>\n",
       "      <th></th>\n",
       "    </tr>\n",
       "  </thead>\n",
       "  <tbody>\n",
       "    <tr>\n",
       "      <th>10</th>\n",
       "      <td>0.820</td>\n",
       "      <td>0.138</td>\n",
       "      <td>0.515</td>\n",
       "      <td>0.123</td>\n",
       "      <td>0.631</td>\n",
       "      <td>0.132</td>\n",
       "      <td>0.744</td>\n",
       "      <td>0.177</td>\n",
       "      <td>0.841</td>\n",
       "      <td>0.201</td>\n",
       "    </tr>\n",
       "    <tr>\n",
       "      <th>20</th>\n",
       "      <td>0.849</td>\n",
       "      <td>0.084</td>\n",
       "      <td>0.525</td>\n",
       "      <td>0.105</td>\n",
       "      <td>0.652</td>\n",
       "      <td>0.089</td>\n",
       "      <td>0.721</td>\n",
       "      <td>0.163</td>\n",
       "      <td>0.889</td>\n",
       "      <td>0.086</td>\n",
       "    </tr>\n",
       "    <tr>\n",
       "      <th>40</th>\n",
       "      <td>0.872</td>\n",
       "      <td>0.067</td>\n",
       "      <td>0.550</td>\n",
       "      <td>0.084</td>\n",
       "      <td>0.680</td>\n",
       "      <td>0.088</td>\n",
       "      <td>0.712</td>\n",
       "      <td>0.130</td>\n",
       "      <td>0.913</td>\n",
       "      <td>0.076</td>\n",
       "    </tr>\n",
       "    <tr>\n",
       "      <th>80</th>\n",
       "      <td>0.884</td>\n",
       "      <td>0.054</td>\n",
       "      <td>0.576</td>\n",
       "      <td>0.075</td>\n",
       "      <td>0.685</td>\n",
       "      <td>0.080</td>\n",
       "      <td>0.754</td>\n",
       "      <td>0.075</td>\n",
       "      <td>0.919</td>\n",
       "      <td>0.061</td>\n",
       "    </tr>\n",
       "    <tr>\n",
       "      <th>160</th>\n",
       "      <td>0.898</td>\n",
       "      <td>0.036</td>\n",
       "      <td>0.581</td>\n",
       "      <td>0.068</td>\n",
       "      <td>0.701</td>\n",
       "      <td>0.063</td>\n",
       "      <td>0.743</td>\n",
       "      <td>0.080</td>\n",
       "      <td>0.939</td>\n",
       "      <td>0.036</td>\n",
       "    </tr>\n",
       "    <tr>\n",
       "      <th>320</th>\n",
       "      <td>0.907</td>\n",
       "      <td>0.026</td>\n",
       "      <td>0.606</td>\n",
       "      <td>0.058</td>\n",
       "      <td>0.729</td>\n",
       "      <td>0.059</td>\n",
       "      <td>0.757</td>\n",
       "      <td>0.060</td>\n",
       "      <td>0.948</td>\n",
       "      <td>0.029</td>\n",
       "    </tr>\n",
       "    <tr>\n",
       "      <th>640</th>\n",
       "      <td>0.911</td>\n",
       "      <td>0.020</td>\n",
       "      <td>0.609</td>\n",
       "      <td>0.047</td>\n",
       "      <td>0.732</td>\n",
       "      <td>0.048</td>\n",
       "      <td>0.763</td>\n",
       "      <td>0.040</td>\n",
       "      <td>0.954</td>\n",
       "      <td>0.019</td>\n",
       "    </tr>\n",
       "    <tr>\n",
       "      <th>1280</th>\n",
       "      <td>0.919</td>\n",
       "      <td>0.010</td>\n",
       "      <td>0.628</td>\n",
       "      <td>0.035</td>\n",
       "      <td>0.757</td>\n",
       "      <td>0.036</td>\n",
       "      <td>0.763</td>\n",
       "      <td>0.029</td>\n",
       "      <td>0.963</td>\n",
       "      <td>0.009</td>\n",
       "    </tr>\n",
       "  </tbody>\n",
       "</table>\n",
       "</div>"
      ],
      "text/plain": [
       "      accuracy_mean  accuracy_std  jaccard_mean  jaccard_std  precision_mean  \\\n",
       "N                                                                              \n",
       "10            0.820         0.138         0.515        0.123           0.631   \n",
       "20            0.849         0.084         0.525        0.105           0.652   \n",
       "40            0.872         0.067         0.550        0.084           0.680   \n",
       "80            0.884         0.054         0.576        0.075           0.685   \n",
       "160           0.898         0.036         0.581        0.068           0.701   \n",
       "320           0.907         0.026         0.606        0.058           0.729   \n",
       "640           0.911         0.020         0.609        0.047           0.732   \n",
       "1280          0.919         0.010         0.628        0.035           0.757   \n",
       "\n",
       "      precision_std  recall_mean  recall_std  specificity_mean  \\\n",
       "N                                                                \n",
       "10            0.132        0.744       0.177             0.841   \n",
       "20            0.089        0.721       0.163             0.889   \n",
       "40            0.088        0.712       0.130             0.913   \n",
       "80            0.080        0.754       0.075             0.919   \n",
       "160           0.063        0.743       0.080             0.939   \n",
       "320           0.059        0.757       0.060             0.948   \n",
       "640           0.048        0.763       0.040             0.954   \n",
       "1280          0.036        0.763       0.029             0.963   \n",
       "\n",
       "      specificity_std  \n",
       "N                      \n",
       "10              0.201  \n",
       "20              0.086  \n",
       "40              0.076  \n",
       "80              0.061  \n",
       "160             0.036  \n",
       "320             0.029  \n",
       "640             0.019  \n",
       "1280            0.009  "
      ]
     },
     "execution_count": 37,
     "metadata": {},
     "output_type": "execute_result"
    }
   ],
   "source": [
    "RBF4_N = RBF4_agg.groupby('N').agg('mean')"
   ]
  },
  {
   "cell_type": "markdown",
   "metadata": {},
   "source": [
    "Plot the mean overall accuracy"
   ]
  },
  {
   "cell_type": "code",
   "execution_count": 41,
   "metadata": {},
   "outputs": [
    {
     "data": {
      "text/plain": [
       "<AxesSubplot: xlabel='N'>"
      ]
     },
     "execution_count": 41,
     "metadata": {},
     "output_type": "execute_result"
    },
    {
     "data": {
      "image/png": "[encoded data removed]",
      "text/plain": [
       "<Figure size 640x480 with 1 Axes>"
      ]
     },
     "metadata": {},
     "output_type": "display_data"
    }
   ],
   "source": [
    "RBF4_N.reset_index(inplace=True)\n",
    "RBF4_N.plot('N', 'accuracy_mean')"
   ]
  },
  {
   "attachments": {},
   "cell_type": "markdown",
   "metadata": {},
   "source": [
    "# S: 4 PCs"
   ]
  },
  {
   "cell_type": "markdown",
   "metadata": {},
   "source": [
    "Import results file"
   ]
  },
  {
   "cell_type": "code",
   "execution_count": 42,
   "metadata": {},
   "outputs": [],
   "source": [
    "colnames = ['N', 'tp', 'tn', 'fp', 'fn', 'SV0', 'SV1', 'C', 'p', 'timestamp', 'scene']\n",
    "\n",
    "Rot = pd.read_csv('result_hybrid_rot_SP_pca4.csv', names= colnames)"
   ]
  },
  {
   "cell_type": "markdown",
   "metadata": {},
   "source": [
    "Calculate evaluation metrics"
   ]
  },
  {
   "cell_type": "code",
   "execution_count": 43,
   "metadata": {},
   "outputs": [],
   "source": [
    "Rot['accuracy'] = (Rot.tp+Rot.tn)/(Rot.tp+Rot.tn+Rot.fp+Rot.fn)\n",
    "Rot['jaccard'] = Rot.tp/(Rot.tp+Rot.fp + Rot.fn)\n",
    "Rot['precision'] = Rot.tp/(Rot.tp+Rot.fp)\n",
    "Rot['recall'] = Rot.tp/(Rot.tp+Rot.fn)\n",
    "Rot['specificity'] = Rot.tn/(Rot.tn+Rot.fp)"
   ]
  },
  {
   "cell_type": "markdown",
   "metadata": {},
   "source": [
    "Aggregate the metrics"
   ]
  },
  {
   "cell_type": "code",
   "execution_count": 45,
   "metadata": {},
   "outputs": [],
   "source": [
    "Rot_agg = Rot.groupby(['scene', 'N']).agg({\n",
    "    'accuracy' : ['mean', 'std'],\n",
    "    'jaccard' : ['mean', 'std'],\n",
    "    'precision' : ['mean', 'std'],\n",
    "    'recall' : ['mean', 'std'],\n",
    "    'specificity' : ['mean', 'std']\n",
    "})"
   ]
  },
  {
   "cell_type": "code",
   "execution_count": 46,
   "metadata": {},
   "outputs": [],
   "source": [
    "Rot_agg.columns  = ['_'.join(col) for col in Rot_agg.columns.values]\n",
    "Rot_agg.reset_index(inplace=True)"
   ]
  },
  {
   "cell_type": "markdown",
   "metadata": {},
   "source": [
    "Aggregate wrt N"
   ]
  },
  {
   "cell_type": "code",
   "execution_count": 47,
   "metadata": {},
   "outputs": [
    {
     "name": "stderr",
     "output_type": "stream",
     "text": [
      "/var/folders/3c/ljwwm7tx1h3_05wq1m93d6mr0000gn/T/ipykernel_1837/4111368988.py:1: FutureWarning: The default value of numeric_only in DataFrameGroupBy.mean is deprecated. In a future version, numeric_only will default to False. Either specify numeric_only or select only columns which should be valid for the function.\n",
      "  Rot_N = Rot_agg.groupby('N').agg('mean')\n"
     ]
    },
    {
     "data": {
      "text/html": [
       "<div>\n",
       "<style scoped>\n",
       "    .dataframe tbody tr th:only-of-type {\n",
       "        vertical-align: middle;\n",
       "    }\n",
       "\n",
       "    .dataframe tbody tr th {\n",
       "        vertical-align: top;\n",
       "    }\n",
       "\n",
       "    .dataframe thead th {\n",
       "        text-align: right;\n",
       "    }\n",
       "</style>\n",
       "<table border=\"1\" class=\"dataframe\">\n",
       "  <thead>\n",
       "    <tr style=\"text-align: right;\">\n",
       "      <th></th>\n",
       "      <th>accuracy_mean</th>\n",
       "      <th>accuracy_std</th>\n",
       "      <th>jaccard_mean</th>\n",
       "      <th>precision_mean</th>\n",
       "      <th>recall_mean</th>\n",
       "      <th>specificity_mean</th>\n",
       "    </tr>\n",
       "    <tr>\n",
       "      <th>N</th>\n",
       "      <th></th>\n",
       "      <th></th>\n",
       "      <th></th>\n",
       "      <th></th>\n",
       "      <th></th>\n",
       "      <th></th>\n",
       "    </tr>\n",
       "  </thead>\n",
       "  <tbody>\n",
       "    <tr>\n",
       "      <th>10</th>\n",
       "      <td>0.708940</td>\n",
       "      <td>0.088528</td>\n",
       "      <td>0.297651</td>\n",
       "      <td>0.531233</td>\n",
       "      <td>0.470145</td>\n",
       "      <td>0.836303</td>\n",
       "    </tr>\n",
       "    <tr>\n",
       "      <th>20</th>\n",
       "      <td>0.732384</td>\n",
       "      <td>0.090567</td>\n",
       "      <td>0.323334</td>\n",
       "      <td>0.544174</td>\n",
       "      <td>0.495115</td>\n",
       "      <td>0.851303</td>\n",
       "    </tr>\n",
       "    <tr>\n",
       "      <th>40</th>\n",
       "      <td>0.709788</td>\n",
       "      <td>0.148251</td>\n",
       "      <td>0.313545</td>\n",
       "      <td>0.527746</td>\n",
       "      <td>0.472882</td>\n",
       "      <td>0.810801</td>\n",
       "    </tr>\n",
       "    <tr>\n",
       "      <th>80</th>\n",
       "      <td>0.744583</td>\n",
       "      <td>0.136855</td>\n",
       "      <td>0.362700</td>\n",
       "      <td>0.549173</td>\n",
       "      <td>0.544960</td>\n",
       "      <td>0.819722</td>\n",
       "    </tr>\n",
       "    <tr>\n",
       "      <th>160</th>\n",
       "      <td>0.774595</td>\n",
       "      <td>0.130077</td>\n",
       "      <td>0.414330</td>\n",
       "      <td>0.572778</td>\n",
       "      <td>0.610925</td>\n",
       "      <td>0.828048</td>\n",
       "    </tr>\n",
       "    <tr>\n",
       "      <th>320</th>\n",
       "      <td>0.794937</td>\n",
       "      <td>0.129376</td>\n",
       "      <td>0.443506</td>\n",
       "      <td>0.582806</td>\n",
       "      <td>0.651059</td>\n",
       "      <td>0.837120</td>\n",
       "    </tr>\n",
       "    <tr>\n",
       "      <th>640</th>\n",
       "      <td>0.805669</td>\n",
       "      <td>0.128018</td>\n",
       "      <td>0.456730</td>\n",
       "      <td>0.593129</td>\n",
       "      <td>0.657393</td>\n",
       "      <td>0.846573</td>\n",
       "    </tr>\n",
       "    <tr>\n",
       "      <th>1280</th>\n",
       "      <td>0.849397</td>\n",
       "      <td>0.089074</td>\n",
       "      <td>0.496723</td>\n",
       "      <td>0.639200</td>\n",
       "      <td>0.677787</td>\n",
       "      <td>0.898096</td>\n",
       "    </tr>\n",
       "  </tbody>\n",
       "</table>\n",
       "</div>"
      ],
      "text/plain": [
       "      accuracy_mean  accuracy_std  jaccard_mean  precision_mean  recall_mean  \\\n",
       "N                                                                              \n",
       "10         0.708940      0.088528      0.297651        0.531233     0.470145   \n",
       "20         0.732384      0.090567      0.323334        0.544174     0.495115   \n",
       "40         0.709788      0.148251      0.313545        0.527746     0.472882   \n",
       "80         0.744583      0.136855      0.362700        0.549173     0.544960   \n",
       "160        0.774595      0.130077      0.414330        0.572778     0.610925   \n",
       "320        0.794937      0.129376      0.443506        0.582806     0.651059   \n",
       "640        0.805669      0.128018      0.456730        0.593129     0.657393   \n",
       "1280       0.849397      0.089074      0.496723        0.639200     0.677787   \n",
       "\n",
       "      specificity_mean  \n",
       "N                       \n",
       "10            0.836303  \n",
       "20            0.851303  \n",
       "40            0.810801  \n",
       "80            0.819722  \n",
       "160           0.828048  \n",
       "320           0.837120  \n",
       "640           0.846573  \n",
       "1280          0.898096  "
      ]
     },
     "execution_count": 47,
     "metadata": {},
     "output_type": "execute_result"
    }
   ],
   "source": [
    "Rot_N = Rot_agg.groupby('N').agg('mean')\n",
    "Rot_N[['accuracy_mean', 'accuracy_std', 'jaccard_mean', 'precision_mean', 'recall_mean', 'specificity_mean']]"
   ]
  },
  {
   "cell_type": "markdown",
   "metadata": {},
   "source": [
    "Plot the mean overall accuracy"
   ]
  },
  {
   "cell_type": "code",
   "execution_count": 49,
   "metadata": {},
   "outputs": [
    {
     "data": {
      "text/plain": [
       "<AxesSubplot: xlabel='N'>"
      ]
     },
     "execution_count": 49,
     "metadata": {},
     "output_type": "execute_result"
    },
    {
     "data": {
      "image/png": "[encoded data removed]",
      "text/plain": [
       "<Figure size 640x480 with 1 Axes>"
      ]
     },
     "metadata": {},
     "output_type": "display_data"
    }
   ],
   "source": [
    "Rot_N.reset_index(inplace=True)\n",
    "Rot_N.plot('N', 'accuracy_mean')"
   ]
  },
  {
   "attachments": {},
   "cell_type": "markdown",
   "metadata": {},
   "source": [
    "# WSWS: 4 PCs"
   ]
  },
  {
   "cell_type": "markdown",
   "metadata": {},
   "source": [
    "Import results file"
   ]
  },
  {
   "cell_type": "code",
   "execution_count": 50,
   "metadata": {},
   "outputs": [],
   "source": [
    "colnames = ['N', 'tp', 'tn', 'fp', 'fn', 'SV0', 'SV1', 'C', 'p', 'timestamp', 'scene']\n",
    "\n",
    "WSWS = pd.read_csv('result_WSWS_SP_pca4.csv', names= colnames)"
   ]
  },
  {
   "cell_type": "markdown",
   "metadata": {},
   "source": [
    "Calculate evaluation metrics"
   ]
  },
  {
   "cell_type": "code",
   "execution_count": 51,
   "metadata": {},
   "outputs": [],
   "source": [
    "WSWS['accuracy'] = (WSWS.tp+WSWS.tn)/(WSWS.tp+WSWS.tn+WSWS.fp+WSWS.fn)\n",
    "WSWS['jaccard'] = WSWS.tp/(WSWS.tp+WSWS.fp + WSWS.fn)\n",
    "WSWS['precision'] = WSWS.tp/(WSWS.tp+WSWS.fp)\n",
    "WSWS['recall'] = WSWS.tp/(WSWS.tp+WSWS.fn)\n",
    "WSWS['specificity'] = WSWS.tn/(WSWS.tn+WSWS.fp)"
   ]
  },
  {
   "cell_type": "markdown",
   "metadata": {},
   "source": [
    "Aggregate the metrics"
   ]
  },
  {
   "cell_type": "code",
   "execution_count": 52,
   "metadata": {},
   "outputs": [],
   "source": [
    "WSWS_agg = WSWS.groupby(['scene', 'N']).agg({\n",
    "    'accuracy' : ['mean', 'std'],\n",
    "    'jaccard' : ['mean', 'std'],\n",
    "    'precision' : ['mean', 'std'],\n",
    "    'recall' : ['mean', 'std'],\n",
    "    'specificity' : ['mean', 'std']\n",
    "})"
   ]
  },
  {
   "cell_type": "code",
   "execution_count": 54,
   "metadata": {},
   "outputs": [],
   "source": [
    "WSWS_agg.columns  = ['_'.join(col) for col in WSWS_agg.columns.values]\n",
    "WSWS_agg.reset_index(inplace=True)"
   ]
  },
  {
   "cell_type": "markdown",
   "metadata": {},
   "source": [
    "Aggregate wrt N"
   ]
  },
  {
   "cell_type": "code",
   "execution_count": 55,
   "metadata": {},
   "outputs": [
    {
     "name": "stderr",
     "output_type": "stream",
     "text": [
      "/var/folders/3c/ljwwm7tx1h3_05wq1m93d6mr0000gn/T/ipykernel_1837/1549448687.py:1: FutureWarning: The default value of numeric_only in DataFrameGroupBy.mean is deprecated. In a future version, numeric_only will default to False. Either specify numeric_only or select only columns which should be valid for the function.\n",
      "  WSWS_N = WSWS_agg.groupby('N').agg('mean')\n"
     ]
    }
   ],
   "source": [
    "WSWS_N = WSWS_agg.groupby('N').agg('mean')"
   ]
  },
  {
   "cell_type": "markdown",
   "metadata": {},
   "source": [
    "Plot the mean overall accuracy"
   ]
  },
  {
   "cell_type": "code",
   "execution_count": 60,
   "metadata": {},
   "outputs": [
    {
     "data": {
      "text/plain": [
       "<AxesSubplot: xlabel='N'>"
      ]
     },
     "execution_count": 60,
     "metadata": {},
     "output_type": "execute_result"
    },
    {
     "data": {
      "image/png": "[encoded data removed]",
      "text/plain": [
       "<Figure size 640x480 with 1 Axes>"
      ]
     },
     "metadata": {},
     "output_type": "display_data"
    }
   ],
   "source": [
    "WSWS_N.reset_index(inplace=True)\n",
    "WSWS_N.plot('N', 'accuracy_mean')"
   ]
  },
  {
   "attachments": {},
   "cell_type": "markdown",
   "metadata": {},
   "source": [
    "# WS: 4 PCs"
   ]
  },
  {
   "cell_type": "markdown",
   "metadata": {},
   "source": [
    "Import results file"
   ]
  },
  {
   "cell_type": "code",
   "execution_count": 61,
   "metadata": {},
   "outputs": [],
   "source": [
    "colnames = ['N', 'tp', 'tn', 'fp', 'fn', 'SV0', 'SV1', 'C', 'p', 'timestamp', 'scene']\n",
    "\n",
    "WS1 = pd.read_csv('result_hybrid_WS1_SP_pca4.csv', names= colnames)"
   ]
  },
  {
   "cell_type": "markdown",
   "metadata": {},
   "source": [
    "Calculate evaluation metrics"
   ]
  },
  {
   "cell_type": "code",
   "execution_count": 62,
   "metadata": {},
   "outputs": [],
   "source": [
    "WS1['accuracy'] = (WS1.tp+WS1.tn)/(WS1.tp+WS1.tn+WS1.fp+WS1.fn)\n",
    "WS1['jaccard'] = WS1.tp/(WS1.tp+WS1.fp + WS1.fn)\n",
    "WS1['precision'] = WS1.tp/(WS1.tp+WS1.fp)\n",
    "WS1['recall'] = WS1.tp/(WS1.tp+WS1.fn)\n",
    "WS1['specificity'] = WS1.tn/(WS1.tn+WS1.fp)"
   ]
  },
  {
   "cell_type": "markdown",
   "metadata": {},
   "source": [
    "Aggregate the metrics"
   ]
  },
  {
   "cell_type": "code",
   "execution_count": 64,
   "metadata": {},
   "outputs": [],
   "source": [
    "WS1_agg = WS1.groupby(['scene', 'N']).agg({\n",
    "    'accuracy' : ['mean', 'std'],\n",
    "    'jaccard' : ['mean', 'std'],\n",
    "    'precision' : ['mean', 'std'],\n",
    "    'recall' : ['mean', 'std'],\n",
    "    'specificity' : ['mean', 'std'],\n",
    "    'SV0' : ['mean'],\n",
    "    'SV1' : ['mean']\n",
    "\n",
    "})"
   ]
  },
  {
   "cell_type": "code",
   "execution_count": 74,
   "metadata": {},
   "outputs": [],
   "source": [
    "WS1_agg.columns  = ['_'.join(col) for col in WS1_agg.columns.values]\n",
    "WS1_agg.reset_index(inplace=True)"
   ]
  },
  {
   "cell_type": "markdown",
   "metadata": {},
   "source": [
    "Aggregate wrt N"
   ]
  },
  {
   "cell_type": "code",
   "execution_count": 92,
   "metadata": {},
   "outputs": [
    {
     "name": "stderr",
     "output_type": "stream",
     "text": [
      "/var/folders/3c/ljwwm7tx1h3_05wq1m93d6mr0000gn/T/ipykernel_1837/475583216.py:1: FutureWarning: The default value of numeric_only in DataFrameGroupBy.mean is deprecated. In a future version, numeric_only will default to False. Either specify numeric_only or select only columns which should be valid for the function.\n",
      "  WS1_N = WS1_agg.groupby('N').agg('mean')\n"
     ]
    }
   ],
   "source": [
    "WS1_N = WS1_agg.groupby('N').agg('mean')"
   ]
  },
  {
   "cell_type": "markdown",
   "metadata": {},
   "source": [
    "Plot the mean overall accuracy"
   ]
  },
  {
   "cell_type": "code",
   "execution_count": 93,
   "metadata": {},
   "outputs": [
    {
     "data": {
      "text/plain": [
       "<AxesSubplot: xlabel='N'>"
      ]
     },
     "execution_count": 93,
     "metadata": {},
     "output_type": "execute_result"
    },
    {
     "data": {
      "image/png": "[encoded data removed]",
      "text/plain": [
       "<Figure size 640x480 with 1 Axes>"
      ]
     },
     "metadata": {},
     "output_type": "display_data"
    }
   ],
   "source": [
    "WS1_N.reset_index(inplace=True)\n",
    "WS1_N.plot('N', 'accuracy_mean')"
   ]
  },
  {
   "attachments": {},
   "cell_type": "markdown",
   "metadata": {},
   "source": [
    "# SELS"
   ]
  },
  {
   "cell_type": "markdown",
   "metadata": {},
   "source": [
    "Import results file"
   ]
  },
  {
   "cell_type": "code",
   "execution_count": 81,
   "metadata": {},
   "outputs": [],
   "source": [
    "colnames = ['N', 'tp', 'tn', 'fp', 'fn', 'SV0', 'SV1', 'C', 'p', 'timestamp', 'scene']\n",
    "\n",
    "SELS = pd.read_csv('result_hybrid_SELS_1_SP_pca4.csv', names= colnames)"
   ]
  },
  {
   "cell_type": "markdown",
   "metadata": {},
   "source": [
    "Calculate evaluation metrics"
   ]
  },
  {
   "cell_type": "code",
   "execution_count": 82,
   "metadata": {},
   "outputs": [],
   "source": [
    "SELS['accuracy'] = (SELS.tp+SELS.tn)/(SELS.tp+SELS.tn+SELS.fp+SELS.fn)\n",
    "SELS['jaccard'] = SELS.tp/(SELS.tp+SELS.fp + SELS.fn)\n",
    "SELS['precision'] = SELS.tp/(SELS.tp+SELS.fp)\n",
    "SELS['recall'] = SELS.tp/(SELS.tp+SELS.fn)\n",
    "SELS['specificity'] = SELS.tn/(SELS.tn+SELS.fp)"
   ]
  },
  {
   "cell_type": "markdown",
   "metadata": {},
   "source": [
    "Aggregate the metrics"
   ]
  },
  {
   "cell_type": "code",
   "execution_count": 83,
   "metadata": {},
   "outputs": [],
   "source": [
    "SELS_agg = SELS.groupby(['scene', 'N']).agg({\n",
    "    'accuracy' : ['mean', 'std'],\n",
    "    'jaccard' : ['mean', 'std'],\n",
    "    'precision' : ['mean', 'std'],\n",
    "    'recall' : ['mean', 'std'],\n",
    "    'specificity' : ['mean', 'std']\n",
    "})"
   ]
  },
  {
   "cell_type": "markdown",
   "metadata": {},
   "source": [
    "Aggregate wrt N"
   ]
  },
  {
   "cell_type": "code",
   "execution_count": 87,
   "metadata": {},
   "outputs": [
    {
     "name": "stderr",
     "output_type": "stream",
     "text": [
      "/var/folders/3c/ljwwm7tx1h3_05wq1m93d6mr0000gn/T/ipykernel_1837/3917772423.py:1: FutureWarning: The default value of numeric_only in DataFrameGroupBy.mean is deprecated. In a future version, numeric_only will default to False. Either specify numeric_only or select only columns which should be valid for the function.\n",
      "  SELS_N = SELS_agg.groupby('N').agg('mean')\n"
     ]
    }
   ],
   "source": [
    "SELS_N = SELS_agg.groupby('N').agg('mean')"
   ]
  },
  {
   "cell_type": "markdown",
   "metadata": {},
   "source": [
    "Plot the mean overall accuracy"
   ]
  },
  {
   "cell_type": "code",
   "execution_count": 90,
   "metadata": {},
   "outputs": [
    {
     "data": {
      "text/plain": [
       "<AxesSubplot: xlabel='N'>"
      ]
     },
     "execution_count": 90,
     "metadata": {},
     "output_type": "execute_result"
    },
    {
     "data": {
      "image/png": "[encoded data removed]",
      "text/plain": [
       "<Figure size 640x480 with 1 Axes>"
      ]
     },
     "metadata": {},
     "output_type": "display_data"
    }
   ],
   "source": [
    "SELS_N.reset_index(inplace=True)\n",
    "SELS_N.plot('N', 'accuracy_mean')"
   ]
  },
  {
   "attachments": {},
   "cell_type": "markdown",
   "metadata": {},
   "source": [
    "# Comparison"
   ]
  },
  {
   "cell_type": "code",
   "execution_count": 91,
   "metadata": {},
   "outputs": [
    {
     "data": {
      "image/png": "[encoded data removed]",
      "text/plain": [
       "<Figure size 640x480 with 1 Axes>"
      ]
     },
     "metadata": {},
     "output_type": "display_data"
    }
   ],
   "source": [
    "import matplotlib\n",
    "\n",
    "matplotlib.rcParams['mathtext.fontset'] = 'stix'\n",
    "matplotlib.rcParams['font.family'] = 'STIXGeneral'\n",
    "\n",
    "#plt.plot(RBF_N['N'], RBF_N['accuracy_mean'], marker = '^', label = \"RBF\")\n",
    "plt.plot(RBF4_N['N'], RBF4_N['accuracy_mean'], marker = '^', label = r\"$RBF_4$\")\n",
    "#plt.plot(lin_N['N'], lin_N['accuracy_mean'], marker = '^', label = \"Lin\")\n",
    "plt.plot(lin4_N['N'], lin4_N['accuracy_mean'], marker = '^', label = r\"$Lin_4$\")\n",
    "#plt.plot(WSp5_N['N'], WSp5_N['accuracy_mean'], marker = 'o', label = r\"$WS^5_2$\")\n",
    "plt.plot(Rot_N['N'], Rot_N['accuracy_mean'], marker = 'o', label = r\"$S_4$\")\n",
    "plt.plot(WS1_N['N'], WS1_N['accuracy_mean'], marker = 'o', label = r\"$WS_4$\")\n",
    "plt.plot(SELS_N['N'], SELS_N['accuracy_mean'], marker = 'o', label = r\"$ES_4$\")\n",
    "plt.plot(WSWS_N['N'], WSWS_N['accuracy_mean'], marker = 'o', label = r'$WSWS_4$')\n",
    "plt.ylabel('Accuracy')\n",
    "plt.xlabel('N')\n",
    "plt.ylim((.7,.93))\n",
    "plt.xscale('log')\n",
    "plt.legend()\n",
    "plt.savefig('Acc_N.png', dpi = 300, bbox_inches='tight')\n",
    "plt.show()"
   ]
  }
 ],
 "metadata": {
  "kernelspec": {
   "display_name": "quantum",
   "language": "python",
   "name": "python3"
  },
  "language_info": {
   "codemirror_mode": {
    "name": "ipython",
    "version": 3
   },
   "file_extension": ".py",
   "mimetype": "text/x-python",
   "name": "python",
   "nbconvert_exporter": "python",
   "pygments_lexer": "ipython3",
   "version": "3.10.8"
  },
  "orig_nbformat": 4,
  "vscode": {
   "interpreter": {
    "hash": "d8f4dd9a8150c7db870e9b968ad12732ff3cb84f2df7f35b4515c2f72f48714f"
   }
  }
 },
 "nbformat": 4,
 "nbformat_minor": 2
}
